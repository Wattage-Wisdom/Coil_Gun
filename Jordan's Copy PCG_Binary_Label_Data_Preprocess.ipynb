{
  "nbformat": 4,
  "nbformat_minor": 0,
  "metadata": {
    "colab": {
      "provenance": [],
      "authorship_tag": "ABX9TyMn2yjW0aAiigtEyV7iljo0",
      "include_colab_link": true
    },
    "kernelspec": {
      "name": "python3",
      "display_name": "Python 3"
    },
    "language_info": {
      "name": "python"
    }
  },
  "cells": [
    {
      "cell_type": "markdown",
      "metadata": {
        "id": "view-in-github",
        "colab_type": "text"
      },
      "source": [
        "<a href=\"https://colab.research.google.com/github/Wattage-Wisdom/Coil_Gun/blob/main/Jordan's%20Copy%20PCG_Binary_Label_Data_Preprocess.ipynb\" target=\"_parent\"><img src=\"https://colab.research.google.com/assets/colab-badge.svg\" alt=\"Open In Colab\"/></a>"
      ]
    },
    {
      "cell_type": "markdown",
      "source": [
        "Preprocess PCG Dataset 1"
      ],
      "metadata": {
        "id": "Dp5fuIucp2wx"
      }
    },
    {
      "cell_type": "markdown",
      "source": [
        "Import Proper Libraries and Define Directories"
      ],
      "metadata": {
        "id": "nW_0Qu8fp9Ou"
      }
    },
    {
      "cell_type": "code",
      "source": [
        "#Mount google drive in colab enviroment\n",
        "from google.colab import drive\n",
        "drive.mount('/content/drive')"
      ],
      "metadata": {
        "id": "itBB97dwqrD6"
      },
      "execution_count": null,
      "outputs": []
    },
    {
      "cell_type": "code",
      "execution_count": null,
      "metadata": {
        "id": "C5Xjqc-0ppou"
      },
      "outputs": [],
      "source": [
        "#Import proper libraries\n",
        "import os\n",
        "import shutil\n",
        "import numpy as np\n",
        "import warnings\n",
        "warnings.filterwarnings('ignore')\n",
        "import pandas as pd\n",
        "import matplotlib.pyplot as plt\n",
        "import os\n",
        "import wave\n",
        "import pylab\n",
        "from pathlib import Path\n",
        "from scipy import signal\n",
        "from scipy.io import wavfile\n",
        "from sklearn.metrics import confusion_matrix\n",
        "import itertools\n",
        "import gc\n",
        "from tqdm import tqdm\n",
        "import cv2\n",
        "from skimage import transform\n",
        "import random\n",
        "from sklearn.model_selection import train_test_split\n",
        "\n",
        "#Use dark background for spectrograph images as light relates to energy\n",
        "plt.style.use('dark_background')"
      ]
    },
    {
      "cell_type": "code",
      "source": [
        "#Specify directories and create new directories for preprocessed data\n",
        "input_directory = '/content/drive/MyDrive/Senior_Design/Datasets/PCG/dataset1'\n",
        "\n",
        "#ADD IF ELSE LOOP HERE FOR MAKING DIRECTORIES IF DOESNT EXIST\n",
        "os.mkdir('/content/drive/MyDrive/Senior_Design/Datasets/PCG/dataset1/image_data/')\n",
        "os.mkdir('/content/drive/MyDrive/Senior_Design/Datasets/PCG/dataset1/image_data/abnormal')\n",
        "os.mkdir('/content/drive/MyDrive/Senior_Design/Datasets/PCG/dataset1/image_data/normal')"
      ],
      "metadata": {
        "id": "ixajgHm2qZDR"
      },
      "execution_count": null,
      "outputs": []
    },
    {
      "cell_type": "markdown",
      "source": [
        "Read Wave Files, Convert to Spectrograph, Save in Respective Folder"
      ],
      "metadata": {
        "id": "Kg3FXG5MtR5o"
      }
    },
    {
      "cell_type": "code",
      "source": [
        "#Create a temporary wave directory\n",
        "wav_temp = os.listdir(input_directory)\n",
        "wav = []\n",
        "\n",
        "#Loop to append wav file by adding data from temporary wave directory\n",
        "for i in range(len(wav_temp)) :\n",
        "    if(wav_temp[i].endswith(\".wav\")):\n",
        "        wav.append(wav_temp[i])\n",
        "\n",
        "#Sort the wav file\n",
        "wav.sort()\n",
        "\n",
        "#Visualize the first ten samples\n",
        "for i in range(10):\n",
        "    if(wav[i].endswith(\".wav\")):\n",
        "        file_name = wav[i][0:5]\n",
        "        if(file_name[0] == 'e'):\n",
        "              file_name = wav[i][0:6]\n",
        "        with open(input_directory+'/'+file_name+'.hea') as f:\n",
        "            lines = f.read().splitlines()\n",
        "            last_line = lines[-1].split()[1]\n",
        "            print(file_name + \" \" + last_line)\n",
        "\n",
        "#Perform garbage collection, force system to reclaim maximum amount of avalible memory\n",
        "gc.collect()\n",
        "\n",
        "#Delete the temporary wav directory\n",
        "del wav_temp"
      ],
      "metadata": {
        "id": "ylPII4xlu-1v"
      },
      "execution_count": null,
      "outputs": []
    },
    {
      "cell_type": "code",
      "source": [
        "#Open wav file\n",
        "signal_wave = wave.open(os.path.join(input_directory, wav[6]), 'r')\n",
        "\n",
        "#Specify sample_rate\n",
        "sample_rate = 2000\n",
        "sig = np.frombuffer(signal_wave.readframes(sample_rate), dtype=np.int16)\n",
        "\n",
        "#Delete max & min in case already specified\n",
        "del max_data\n",
        "del min_data\n",
        "\n",
        "#Normalize data\n",
        "max_data = np.max(sig)\n",
        "min_data = np.min(sig)\n",
        "norm_signal = (sig - min_data)/(max_data - min_data)\n",
        "sig = norm_signal - 0.5\n",
        "\n",
        "#Create one figure for visualization, plot amplitude vs time\n",
        "plt.figure(figsize=(12,12))\n",
        "sig_plot = plt.subplot(211)\n",
        "sig_plot.set_title(wav[6])\n",
        "sig_plot.plot(sig)\n",
        "sig_plot.set_xlabel('Sample Rate * Time')\n",
        "sig_plot.set_ylabel('Energy')\n",
        "\n",
        "#Plot above singals associated spectrograph for visualization\n",
        "spectogram_plot = plt.subplot(212)\n",
        "spectogram_plot.specgram(sig, NFFT=1024, Fs=sample_rate, noverlap=900)\n",
        "spectogram_plot.set_xlabel('Time')\n",
        "spectogram_plot.set_ylabel('Frequency')\n",
        "\n",
        "#Display the plot\n",
        "plt.show()\n",
        "\n",
        "#Perform garbage collection, force system to reclaim maximum amount of avalible memory\n",
        "gc.collect()"
      ],
      "metadata": {
        "id": "AJc3UoLwu_z-"
      },
      "execution_count": null,
      "outputs": []
    },
    {
      "cell_type": "code",
      "source": [
        "#Define funtion to limit the signal to 5 seconds\n",
        "def Limit(S,Fs):\n",
        "    if(len(S)/Fs>=5):\n",
        "        S=S[:5*Fs]\n",
        "    else:\n",
        "        for i in range(len(S),5*Fs):\n",
        "            S=np.append(S,0)\n",
        "    return S\n",
        "\n",
        "#Define function to retrieve sound and frame info from sample\n",
        "def get_wav_info(wav_file):\n",
        "    wav = wave.open(wav_file, 'r')\n",
        "    frames = wav.readframes(-1)\n",
        "    sound_info = pylab.frombuffer(frames, 'int16')\n",
        "    frame_rate = wav.getframerate()\n",
        "    wav.close()\n",
        "    return sound_info, frame_rate\n",
        "\n",
        "#Define function to retrive sample's class label\n",
        "def get_class(hea_file):\n",
        "\n",
        "    #Read sample's corresponding header file\n",
        "    with open(input_directory+'/'+hea_file+'.hea') as f:\n",
        "            lines = f.read().splitlines()\n",
        "            last_line = lines[-1].split()[1]\n",
        "    return last_line\n",
        "\n",
        "#Specify output directory where the images of spectogram are stored\n",
        "output_directory = './image_data/'\n",
        "\n",
        "#Loop to convert all wave files to spectrogram\n",
        "for filename in wav:\n",
        "\n",
        "    #Make sure only wav files are read\n",
        "    if \"wav\" in filename:\n",
        "        file_path = os.path.join(input_directory, filename)\n",
        "        file_stem = Path(file_path).stem\n",
        "\n",
        "        #Get the target directory\n",
        "        target_dir = f'{get_class(file_stem)}'\n",
        "        dist_dir = output_directory+target_dir.lower()\n",
        "        file_dist_path = os.path.join(dist_dir, file_stem)\n",
        "\n",
        "        #Convert signal to spectogram\n",
        "        if not os.path.exists(file_dist_path + '.png'):\n",
        "            file_stem = Path(file_path).stem\n",
        "            sound_info, frame_rate = get_wav_info(file_path)\n",
        "            sig = Limit(sound_info,frame_rate)\n",
        "            max_data = np.max(sig)\n",
        "            min_data = np.min(sig)\n",
        "            norm_signal = (sig - min_data)/(max_data - min_data)\n",
        "            sig = norm_signal - 0.5\n",
        "            pylab.specgram(sig, Fs=frame_rate)\n",
        "\n",
        "            #Save spectrogram as png\n",
        "            pylab.savefig(f'{file_dist_path}.png')\n",
        "            pylab.close()\n",
        "\n",
        "#Perform garbage collection, force system to reclaim maximum amount of avalible memory\n",
        "gc.collect()"
      ],
      "metadata": {
        "id": "oHR_hAf1vJ7W"
      },
      "execution_count": null,
      "outputs": []
    },
    {
      "cell_type": "markdown",
      "source": [
        "Read All Images, Convert to numpy Arrays with Class Labels"
      ],
      "metadata": {
        "id": "f09qh_VcvhU4"
      }
    },
    {
      "cell_type": "code",
      "source": [
        "#Specify image properties\n",
        "IMAGE_HEIGHT = 128\n",
        "IMAGE_WIDTH = 128\n",
        "N_CHANNELS = 3 #3 color channels RGB\n",
        "\n",
        "#Number of classes\n",
        "N_CLASSES = 2\n",
        "\n",
        "#Define function to load data\n",
        "def load_data(data,num_classes,class_label):\n",
        "\n",
        "    #Create empty arrays of X and Y to be appended\n",
        "    X = []\n",
        "    y = []\n",
        "\n",
        "    #To traverse every spectogram image in data\n",
        "    for file_type in os.listdir(data):\n",
        "\n",
        "        if not file_type.startswith('.'):\n",
        "\n",
        "        #It is binary classification so we have two class labels 0 and 1\n",
        "        #If ABNORMAL the label will be 1\n",
        "        #If NORMAL the label will be 0\n",
        "            if file_type in ['abnormal']:\n",
        "                label = 1\n",
        "            elif file_type in ['normal']:\n",
        "                label = 0\n",
        "\n",
        "            for filename in tqdm(os.listdir(data + '/' + file_type)):\n",
        "                #To read every image from the folders\n",
        "                image = cv2.imread(data +'/'+ file_type + '/' + filename)\n",
        "\n",
        "                #If the image is found\n",
        "                if image is not None:\n",
        "\n",
        "                    #To resize the random sized images into a fixed size of 128x128x3\n",
        "                    image = transform.resize(image, (IMAGE_HEIGHT, IMAGE_WIDTH, N_CHANNELS))\n",
        "\n",
        "                    #Changing the datatype into array to process through the cnn algorithm\n",
        "                    image_data_as_arr = np.asarray(image)\n",
        "\n",
        "                    del image\n",
        "\n",
        "                   #ADD AUGMENTATION IN PYTORCH DATALOADER\n",
        "\n",
        "                    #Appending the data in the empty lists of X and y\n",
        "                    X.append(image_data_as_arr)\n",
        "                    y.append(label)\n",
        "\n",
        "    X = np.asarray(X)\n",
        "    y = np.asarray(y)\n",
        "\n",
        "    return X,y\n",
        "\n",
        "#Loading the data to be split\n",
        "X_data, y_data = load_data(r'./image_data/',2,1)\n",
        "gc.collect()"
      ],
      "metadata": {
        "id": "PSyI6nGLvrKp"
      },
      "execution_count": null,
      "outputs": []
    },
    {
      "cell_type": "markdown",
      "source": [
        "View Sample Data & Perform Test/Training Split"
      ],
      "metadata": {
        "id": "mcrz5acDSGAj"
      }
    },
    {
      "cell_type": "code",
      "source": [
        "#Print count of each label to see imbalance\n",
        "unique, counts = np.unique(y_train, return_counts=True)\n",
        "dict(zip(unique, counts))"
      ],
      "metadata": {
        "id": "cx0QIYHhSMjb"
      },
      "execution_count": null,
      "outputs": []
    },
    {
      "cell_type": "code",
      "source": [
        "#Plot random number of sample data (with labels) for visualization\n",
        "plt.figure(figsize=(12, 12))\n",
        "\n",
        "for i in range(9):\n",
        "    ax = plt.subplot(3, 3, i + 1)\n",
        "    rand_num = random.randint(0,len(X_train))\n",
        "    plt.imshow(X_train[rand_num])\n",
        "    plt.title(int(y_train[rand_num]))\n",
        "    plt.axis(\"off\")\n",
        "\n",
        "plt.show()"
      ],
      "metadata": {
        "id": "DMgnrCUtSmeJ"
      },
      "execution_count": null,
      "outputs": []
    },
    {
      "cell_type": "code",
      "source": [
        "#Split dataset into training and test bins\n",
        "xTrain, xTest, yTrain, yTest = train_test_split(X_train, y_train, random_state=42, shuffle=True, test_size=0.2) #If doesn't work try stratify instead of test_size\n",
        "\n",
        "#Perform one hot encoding labels\n",
        "y_trainHot = np.uint8(to_categorical(yTrain, num_classes = 2))\n",
        "y_testHot = np.uint8(to_categorical(yTest, num_classes = 2))\n",
        "\n",
        "#Perform garbage collection, force system to reclaim maximum amount of avalible memory\n",
        "gc.collect()"
      ],
      "metadata": {
        "id": "nZPIlbQuTJDE"
      },
      "execution_count": null,
      "outputs": []
    },
    {
      "cell_type": "markdown",
      "source": [
        "Now That Data Has Been Preprocessed, Can Load Into Pytorch Network & Train"
      ],
      "metadata": {
        "id": "FTSt7IR5WFHO"
      }
    }
  ]
}